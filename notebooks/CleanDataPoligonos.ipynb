{
 "cells": [
  {
   "cell_type": "code",
   "execution_count": 1,
   "id": "ce5f0002",
   "metadata": {},
   "outputs": [],
   "source": [
    "import geopandas as gpd\n",
    "import folium\n",
    "import matplotlib.pyplot as plt\n",
    "import matplotlib.colors as mcolors"
   ]
  },
  {
   "cell_type": "code",
   "execution_count": 2,
   "id": "ed78bb5c",
   "metadata": {},
   "outputs": [],
   "source": [
    "colonias_shp = '/home/jazzzfm/Downloads/colonias_iecm/colonias_iecm.shp'\n",
    "gdf_colonias = gpd.read_file(colonias_shp)"
   ]
  },
  {
   "cell_type": "code",
   "execution_count": 8,
   "id": "d45191e2",
   "metadata": {},
   "outputs": [
    {
     "name": "stdout",
     "output_type": "stream",
     "text": [
      "Index(['ENT', 'CVEDT', 'NOMDT', 'DTTOLOC', 'CVEUT', 'NOMUT', 'ID', 'geometry'], dtype='object')\n",
      "  ENT CVEDT         NOMDT DTTOLOC   CVEUT                   NOMUT  ID  \\\n",
      "0   9     2  AZCAPOTZALCO      05  02-001                AGUILERA   1   \n",
      "1   9     2  AZCAPOTZALCO      05  02-002                  ALDANA   2   \n",
      "2   9     2  AZCAPOTZALCO      05  02-005           ANGEL ZIMBRON   3   \n",
      "3   9     2  AZCAPOTZALCO      05  02-006                  ARENAL   4   \n",
      "4   9     2  AZCAPOTZALCO      03  02-007  CENTRO DE AZCAPOTZALCO   5   \n",
      "\n",
      "                                            geometry  \n",
      "0  POLYGON ((483311.618 2153254.848, 483332.006 2...  \n",
      "1  POLYGON ((484406.956 2153012.331, 484401.132 2...  \n",
      "2  POLYGON ((480013.755 2153003.618, 480026.649 2...  \n",
      "3  POLYGON ((484061.118 2152622.284, 484061.678 2...  \n",
      "4  POLYGON ((480104.707 2154525.214, 480118.178 2...  \n",
      "EPSG:32614\n",
      "0       POLYGON ((483311.618 2153254.848, 483332.006 2...\n",
      "1       POLYGON ((484406.956 2153012.331, 484401.132 2...\n",
      "2       POLYGON ((480013.755 2153003.618, 480026.649 2...\n",
      "3       POLYGON ((484061.118 2152622.284, 484061.678 2...\n",
      "4       POLYGON ((480104.707 2154525.214, 480118.178 2...\n",
      "                              ...                        \n",
      "1809    POLYGON ((474406.945 2140353.439, 474418.85 21...\n",
      "1810    POLYGON ((477054.695 2143212.991, 477044.798 2...\n",
      "1811    POLYGON ((473081.154 2138733.281, 473070.79 21...\n",
      "1812    POLYGON ((477329.014 2144260.214, 477335.725 2...\n",
      "1813    POLYGON ((475163.806 2139726.171, 475186.473 2...\n",
      "Name: geometry, Length: 1814, dtype: geometry\n"
     ]
    }
   ],
   "source": [
    "print(gdf_colonias.columns)\n",
    "print(gdf_colonias.head())\n",
    "print(gdf_colonias.crs)\n",
    "print(gdf_colonias.geometry)"
   ]
  },
  {
   "cell_type": "code",
   "execution_count": 13,
   "id": "03fbd680",
   "metadata": {},
   "outputs": [
    {
     "name": "stdout",
     "output_type": "stream",
     "text": [
      "    ENT CVEDT     NOMDT DTTOLOC   CVEUT                    NOMUT   ID  \\\n",
      "175   9     3  COYOACAN      32  03-126   ADOLFO RUIZ CORTINES I  176   \n",
      "176   9     3  COYOACAN      32  03-127  ADOLFO RUIZ CORTINES II  177   \n",
      "177   9     3  COYOACAN      32  03-003       AJUSCO HUAYAMILPAS  178   \n",
      "178   9     3  COYOACAN      32  03-128                 AJUSCO I  179   \n",
      "179   9     3  COYOACAN      32  03-129                AJUSCO II  180   \n",
      "\n",
      "                                              geometry  \n",
      "175  POLYGON ((484643.16 2136806.316, 484663.698 21...  \n",
      "176  POLYGON ((484207.337 2136249.956, 484135.66 21...  \n",
      "177  POLYGON ((484043.277 2137006.487, 484119.038 2...  \n",
      "178  POLYGON ((483346.833 2137391.153, 483418.954 2...  \n",
      "179  POLYGON ((483005.513 2136851.893, 483076.704 2...  \n",
      "Total de colonias en Coyoacán: 153\n"
     ]
    }
   ],
   "source": [
    "# Filtrar filas donde NOMDT sea \"COYOACAN\"\n",
    "colonias_coyoacan = gdf_colonias[gdf_colonias[\"NOMDT\"] == \"COYOACAN\"]\n",
    "\n",
    "# Visualizar las primeras filas para verificar\n",
    "print(colonias_coyoacan.head())\n",
    "\n",
    "# Verificar cuántas filas coinciden\n",
    "print(f\"Total de colonias en Coyoacán: {len(colonias_coyoacan)}\")\n"
   ]
  },
  {
   "cell_type": "code",
   "execution_count": 14,
   "id": "39e351f8",
   "metadata": {},
   "outputs": [],
   "source": [
    "# Exportar a un nuevo shapefile\n",
    "colonias_coyoacan.to_file(\"colonias_coyoacan.shp\")"
   ]
  },
  {
   "cell_type": "markdown",
   "id": "9e295318",
   "metadata": {},
   "source": [
    "### Ahora todo junto"
   ]
  },
  {
   "cell_type": "code",
   "execution_count": 15,
   "id": "b8c2c2c3",
   "metadata": {},
   "outputs": [],
   "source": [
    "# Colonias\n",
    "colonias_shp = '/home/jazzzfm/Documents/CoyoacanDataAnalysis/data/colonias/colonias_coyoacan.shp'\n",
    "gdf_colonias = gpd.read_file(colonias_shp)"
   ]
  },
  {
   "cell_type": "code",
   "execution_count": 20,
   "id": "c98de58c",
   "metadata": {},
   "outputs": [
    {
     "name": "stdout",
     "output_type": "stream",
     "text": [
      "Index(['ENT', 'CVEDT', 'NOMDT', 'DTTOLOC', 'CVEUT', 'NOMUT', 'ID', 'geometry'], dtype='object')\n",
      "  ENT CVEDT     NOMDT DTTOLOC   CVEUT                    NOMUT   ID  \\\n",
      "0   9     3  COYOACAN      32  03-126   ADOLFO RUIZ CORTINES I  176   \n",
      "1   9     3  COYOACAN      32  03-127  ADOLFO RUIZ CORTINES II  177   \n",
      "2   9     3  COYOACAN      32  03-003       AJUSCO HUAYAMILPAS  178   \n",
      "3   9     3  COYOACAN      32  03-128                 AJUSCO I  179   \n",
      "4   9     3  COYOACAN      32  03-129                AJUSCO II  180   \n",
      "\n",
      "                                            geometry  \n",
      "0  POLYGON ((-99.14619 19.3251, -99.146 19.32503,...  \n",
      "1  POLYGON ((-99.15034 19.32007, -99.15102 19.319...  \n",
      "2  POLYGON ((-99.15191 19.32691, -99.15119 19.326...  \n",
      "3  POLYGON ((-99.15854 19.33038, -99.15785 19.329...  \n",
      "4  POLYGON ((-99.16178 19.3255, -99.16111 19.3249...  \n",
      "EPSG:4326\n",
      "0      POLYGON ((-99.14619 19.3251, -99.146 19.32503,...\n",
      "1      POLYGON ((-99.15034 19.32007, -99.15102 19.319...\n",
      "2      POLYGON ((-99.15191 19.32691, -99.15119 19.326...\n",
      "3      POLYGON ((-99.15854 19.33038, -99.15785 19.329...\n",
      "4      POLYGON ((-99.16178 19.3255, -99.16111 19.3249...\n",
      "                             ...                        \n",
      "148    POLYGON ((-99.16765 19.30674, -99.1666 19.3047...\n",
      "149    POLYGON ((-99.10425 19.30549, -99.10447 19.308...\n",
      "150    POLYGON ((-99.17564 19.3053, -99.17547 19.3054...\n",
      "151    POLYGON ((-99.17469 19.30575, -99.1747 19.3058...\n",
      "152    POLYGON ((-99.14353 19.33049, -99.14302 19.330...\n",
      "Name: geometry, Length: 153, dtype: geometry\n"
     ]
    }
   ],
   "source": [
    "print(gdf_colonias.columns)\n",
    "print(gdf_colonias.head())\n",
    "print(gdf_colonias.crs)\n",
    "print(gdf_colonias.geometry)"
   ]
  },
  {
   "cell_type": "code",
   "execution_count": 25,
   "id": "0bb7230e",
   "metadata": {},
   "outputs": [],
   "source": [
    "# AGEB\n",
    "ageb_shp = '~/Downloads/poligono_ageb_urbanas_cdmx/poligono_ageb_urbanas_cdmx.shp'\n",
    "gdf_ageb = gpd.read_file(ageb_shp)"
   ]
  },
  {
   "cell_type": "code",
   "execution_count": 27,
   "id": "c39e3abd",
   "metadata": {},
   "outputs": [
    {
     "name": "stdout",
     "output_type": "stream",
     "text": [
      "Index(['CVEGEO', 'CVE_ENT', 'CVE_MUN', 'CVE_LOC', 'CVE_AGEB', 'geometry'], dtype='object')\n",
      "          CVEGEO CVE_ENT CVE_MUN CVE_LOC CVE_AGEB  \\\n",
      "0  0901000011716      09     010    0001     1716   \n",
      "1  0901000012150      09     010    0001     2150   \n",
      "2  0901000011133      09     010    0001     1133   \n",
      "3  0901000011307      09     010    0001     1307   \n",
      "4  0901000010281      09     010    0001     0281   \n",
      "\n",
      "                                            geometry  \n",
      "0  POLYGON ((-99.25882 19.32558, -99.25834 19.325...  \n",
      "1  POLYGON ((-99.1917 19.37893, -99.1917 19.37879...  \n",
      "2  POLYGON ((-99.1776 19.35182, -99.17766 19.3517...  \n",
      "3  POLYGON ((-99.20805 19.31277, -99.20768 19.312...  \n",
      "4  POLYGON ((-99.24228 19.38451, -99.24233 19.384...  \n",
      "EPSG:4326\n",
      "0       POLYGON ((-99.25882 19.32558, -99.25834 19.325...\n",
      "1       POLYGON ((-99.1917 19.37893, -99.1917 19.37879...\n",
      "2       POLYGON ((-99.1776 19.35182, -99.17766 19.3517...\n",
      "3       POLYGON ((-99.20805 19.31277, -99.20768 19.312...\n",
      "4       POLYGON ((-99.24228 19.38451, -99.24233 19.384...\n",
      "                              ...                        \n",
      "2426    POLYGON ((-99.00253 19.35744, -99.00255 19.355...\n",
      "2427    POLYGON ((-98.99932 19.35467, -98.99889 19.354...\n",
      "2428    POLYGON ((-98.98392 19.34561, -98.98367 19.345...\n",
      "2429    POLYGON ((-99.06016 19.36342, -99.06042 19.362...\n",
      "2430    POLYGON ((-99.0568 19.36313, -99.0576 19.35951...\n",
      "Name: geometry, Length: 2431, dtype: geometry\n"
     ]
    }
   ],
   "source": [
    "print(gdf_ageb.columns)\n",
    "print(gdf_ageb.head())\n",
    "print(gdf_ageb.crs)\n",
    "print(gdf_ageb.geometry)"
   ]
  },
  {
   "cell_type": "code",
   "execution_count": 16,
   "id": "b03d8df8",
   "metadata": {},
   "outputs": [],
   "source": [
    "# Manzanas\n",
    "manzanas_shp = '../data/manzanas/090030001m.shp'\n",
    "gdf_manzanas = gpd.read_file(manzanas_shp)[['IDENTIFICA', 'geometry']]"
   ]
  },
  {
   "cell_type": "code",
   "execution_count": 21,
   "id": "b4ef0b86",
   "metadata": {},
   "outputs": [
    {
     "name": "stdout",
     "output_type": "stream",
     "text": [
      "Index(['IDENTIFICA', 'geometry'], dtype='object')\n",
      "   IDENTIFICA                                           geometry\n",
      "0           1  POLYGON ((-99.10271 19.31447, -99.10261 19.314...\n",
      "1           2  POLYGON ((-99.13643 19.33014, -99.13646 19.330...\n",
      "2           3  POLYGON ((-99.14557 19.31942, -99.14559 19.319...\n",
      "3           4  POLYGON ((-99.11601 19.33299, -99.1159 19.3329...\n",
      "4           5  POLYGON ((-99.11542 19.33216, -99.11542 19.332...\n",
      "EPSG:4326\n",
      "0       POLYGON ((-99.10271 19.31447, -99.10261 19.314...\n",
      "1       POLYGON ((-99.13643 19.33014, -99.13646 19.330...\n",
      "2       POLYGON ((-99.14557 19.31942, -99.14559 19.319...\n",
      "3       POLYGON ((-99.11601 19.33299, -99.1159 19.3329...\n",
      "4       POLYGON ((-99.11542 19.33216, -99.11542 19.332...\n",
      "                              ...                        \n",
      "4808    POLYGON ((-99.17479 19.3087, -99.1748 19.30872...\n",
      "4809    POLYGON ((-99.10944 19.32239, -99.10934 19.322...\n",
      "4810    POLYGON ((-99.16321 19.30335, -99.16319 19.303...\n",
      "4811    POLYGON ((-99.10658 19.31205, -99.10669 19.312...\n",
      "4812    POLYGON ((-99.15217 19.32052, -99.15209 19.320...\n",
      "Name: geometry, Length: 4813, dtype: geometry\n"
     ]
    }
   ],
   "source": [
    "print(gdf_manzanas.columns)\n",
    "print(gdf_manzanas.head())\n",
    "print(gdf_manzanas.crs)\n",
    "print(gdf_manzanas.geometry)"
   ]
  },
  {
   "cell_type": "code",
   "execution_count": 23,
   "id": "cdb4f3cf",
   "metadata": {},
   "outputs": [],
   "source": [
    "# Municipio\n",
    "municipio_polygon = gpd.read_file('../data/limites/poligonos_alcaldias_cdmx.shp')\n",
    "municipio_polygon = coyoacan_polygon[coyoacan_polygon['NOMGEO'] == 'Coyoacán']"
   ]
  },
  {
   "cell_type": "code",
   "execution_count": 24,
   "id": "5f8ec495",
   "metadata": {},
   "outputs": [
    {
     "name": "stdout",
     "output_type": "stream",
     "text": [
      "Index(['CVEGEO', 'CVE_ENT', 'CVE_MUN', 'NOMGEO', 'geometry'], dtype='object')\n",
      "  CVEGEO CVE_ENT CVE_MUN    NOMGEO  \\\n",
      "1  09003      09     003  Coyoacán   \n",
      "\n",
      "                                            geometry  \n",
      "1  POLYGON ((-99.13427 19.35654, -99.13397 19.356...  \n",
      "EPSG:4326\n",
      "1    POLYGON ((-99.13427 19.35654, -99.13397 19.356...\n",
      "Name: geometry, dtype: geometry\n"
     ]
    }
   ],
   "source": [
    "print(municipio_polygon.columns)\n",
    "print(municipio_polygon.head())\n",
    "print(municipio_polygon.crs)\n",
    "print(municipio_polygon.geometry)"
   ]
  },
  {
   "cell_type": "code",
   "execution_count": 18,
   "id": "639a31a4",
   "metadata": {},
   "outputs": [],
   "source": [
    "# Alinear CRS\n",
    "common_crs = coyoacan_polygon.crs\n",
    "gdf_manzanas = gdf_manzanas.to_crs(common_crs)\n",
    "gdf_colonias = gdf_colonias.to_crs(common_crs)"
   ]
  },
  {
   "cell_type": "code",
   "execution_count": 19,
   "id": "8fbf0600",
   "metadata": {},
   "outputs": [],
   "source": [
    "# Recortar al área de Coyoacán\n",
    "gdf_manzanas_coyoacan = gpd.clip(gdf_manzanas, coyoacan_polygon)\n",
    "gdf_colonias_coyoacan = gpd.clip(gdf_colonias, coyoacan_polygon)"
   ]
  },
  {
   "cell_type": "markdown",
   "id": "244e8637",
   "metadata": {},
   "source": [
    "### CLEANING DATA"
   ]
  },
  {
   "cell_type": "code",
   "execution_count": 30,
   "id": "b38ed810",
   "metadata": {},
   "outputs": [],
   "source": [
    "import geopandas as gpd\n",
    "from shapely.geometry import Polygon"
   ]
  },
  {
   "cell_type": "code",
   "execution_count": 67,
   "id": "27f5463e",
   "metadata": {},
   "outputs": [],
   "source": [
    "# Rutas de los archivos de entrada\n",
    "base = '~/Documents/CoyoacanDataAnalysis/data/'\n",
    "municipio_shp = base + 'limites/poligonos_alcaldias_cdmx.shp'\n",
    "ageb_shp =  base + 'ageb_cdmx/poligono_ageb_urbanas_cdmx.shp'\n",
    "colonias_shp =  base + 'colonias/colonias_coyoacan.shp'\n",
    "manzanas_shp =  base + 'manzanas/090030001m.shp'\n",
    "\n",
    "# Directorio para guardar los shapefiles limpios\n",
    "output_dir = '~/Documents/CoyoacanDataAnalysis/clean_data/poligonos/'"
   ]
  },
  {
   "cell_type": "code",
   "execution_count": 37,
   "id": "9f12f119",
   "metadata": {},
   "outputs": [],
   "source": [
    "# Leer el shapefile de municipios\n",
    "gdf_municipios = gpd.read_file(municipio_shp)\n",
    "\n",
    "# Filtrar el municipio de Coyoacán\n",
    "gdf_coyoacan = gdf_municipios[gdf_municipios['NOMGEO'] == 'Coyoacán'].copy()\n",
    "\n",
    "# Asegurar que el CRS sea EPSG:4326\n",
    "gdf_coyoacan = gdf_coyoacan.to_crs(epsg=4326)\n",
    "\n",
    "# Corregir geometrías inválidas\n",
    "gdf_coyoacan['geometry'] = gdf_coyoacan['geometry'].buffer(0)\n",
    "\n",
    "# Verificar geometrías vacías o nulas\n",
    "gdf_coyoacan = gdf_coyoacan[~gdf_coyoacan['geometry'].is_empty]\n",
    "gdf_coyoacan = gdf_coyoacan.dropna(subset=['geometry'])\n",
    "\n",
    "# Guardar el shapefile limpio del municipio\n",
    "gdf_coyoacan.to_file(f'{output_dir}/municipio/municipio_coyoacan_clean.shp')\n"
   ]
  },
  {
   "cell_type": "code",
   "execution_count": 65,
   "id": "a188b1bb",
   "metadata": {},
   "outputs": [
    {
     "name": "stdout",
     "output_type": "stream",
     "text": [
      "Columnas después del overlay AGEBs: Index(['CVEGEO_1', 'CVE_ENT_1', 'CVE_MUN_1', 'CVE_LOC', 'CVE_AGEB', 'CVEGEO_2',\n",
      "       'CVE_ENT_2', 'CVE_MUN_2', 'NOMGEO', 'geometry'],\n",
      "      dtype='object')\n",
      "Tipos de geometría antes de la conversión:\n",
      "Polygon               156\n",
      "MultiLineString        32\n",
      "GeometryCollection     13\n",
      "Point                   4\n",
      "Name: count, dtype: int64\n",
      "Tipos de geometría después de la conversión:\n",
      "Polygon         162\n",
      "MultiPolygon      5\n",
      "Name: count, dtype: int64\n",
      "Tipos de geometría después de la conversión:\n",
      "Polygon         162\n",
      "MultiPolygon      5\n",
      "Name: count, dtype: int64\n"
     ]
    }
   ],
   "source": [
    "from shapely.geometry import Polygon, MultiPolygon\n",
    "\n",
    "def extract_polygons(geom):\n",
    "    if geom.geom_type == 'GeometryCollection':\n",
    "        # Extraer los polígonos de la GeometryCollection\n",
    "        polygons = [part for part in geom.geoms if part.geom_type in ['Polygon', 'MultiPolygon']]\n",
    "        if len(polygons) == 0:\n",
    "            return None  # No hay polígonos en la GeometryCollection\n",
    "        elif len(polygons) == 1:\n",
    "            return polygons[0]\n",
    "        else:\n",
    "            return MultiPolygon(polygons)\n",
    "    elif geom.geom_type in ['Polygon', 'MultiPolygon']:\n",
    "        return geom\n",
    "    else:\n",
    "        return None  # Descartar geometrías que no sean polígonos\n",
    "    \n",
    "    \n",
    "import geopandas as gpd\n",
    "from shapely.geometry import Polygon, MultiPolygon\n",
    "import os\n",
    "\n",
    "# Leer el shapefile de AGEBs\n",
    "gdf_ageb = gpd.read_file(ageb_shp)\n",
    "\n",
    "# Asegurar que el CRS coincida\n",
    "gdf_ageb = gdf_ageb.to_crs(epsg=4326)\n",
    "\n",
    "# Corregir geometrías inválidas\n",
    "gdf_ageb['geometry'] = gdf_ageb['geometry'].buffer(0)\n",
    "\n",
    "# Realizar la intersección espacial para recortar los AGEBs dentro de Coyoacán\n",
    "gdf_ageb_coyoacan = gpd.overlay(\n",
    "    gdf_ageb, gdf_coyoacan, how='intersection', keep_geom_type=False\n",
    ")\n",
    "\n",
    "# Verificar los nombres de las columnas\n",
    "print(\"Columnas después del overlay AGEBs:\", gdf_ageb_coyoacan.columns)\n",
    "\n",
    "# Seleccionar y renombrar columnas\n",
    "gdf_ageb_coyoacan = gdf_ageb_coyoacan[['CVE_AGEB', 'geometry']].rename(columns={\n",
    "    'CVE_AGEB': 'id_ageb'\n",
    "})\n",
    "\n",
    "# Asegurar que los IDs sean strings\n",
    "gdf_ageb_coyoacan['id_ageb'] = gdf_ageb_coyoacan['id_ageb'].astype(str)\n",
    "\n",
    "# Verificar los tipos de geometría antes de la conversión\n",
    "print(\"Tipos de geometría antes de la conversión:\")\n",
    "print(gdf_ageb_coyoacan.geom_type.value_counts())\n",
    "\n",
    "# Aplicar la función para extraer polígonos\n",
    "gdf_ageb_coyoacan['geometry'] = gdf_ageb_coyoacan['geometry'].apply(extract_polygons)\n",
    "\n",
    "# Eliminar registros con geometrías vacías o nulas\n",
    "gdf_ageb_coyoacan = gdf_ageb_coyoacan[~gdf_ageb_coyoacan['geometry'].is_empty]\n",
    "gdf_ageb_coyoacan = gdf_ageb_coyoacan.dropna(subset=['geometry'])\n",
    "\n",
    "# Verificar los tipos de geometría después de la conversión\n",
    "print(\"Tipos de geometría después de la conversión:\")\n",
    "print(gdf_ageb_coyoacan.geom_type.value_counts())\n",
    "\n",
    "# Guardar el shapefile limpio de AGEBs\n",
    "gdf_ageb_coyoacan.to_file(f'{output_dir}ageb/ageb_coyoacan_clean.shp')\n",
    "\n",
    "print(\"Tipos de geometría después de la conversión:\")\n",
    "print(gdf_ageb_coyoacan.geom_type.value_counts())"
   ]
  },
  {
   "cell_type": "code",
   "execution_count": 68,
   "id": "d153a237",
   "metadata": {},
   "outputs": [
    {
     "name": "stdout",
     "output_type": "stream",
     "text": [
      "Columnas después del overlay Manzanas: Index(['IDENTIFICA', 'CVEGEO_1', 'CVEGEO_2', 'CVE_ENT', 'CVE_MUN', 'NOMGEO',\n",
      "       'geometry'],\n",
      "      dtype='object')\n",
      "Tipos de geometría antes de la conversión:\n",
      "Polygon    4813\n",
      "Name: count, dtype: int64\n",
      "Tipos de geometría después de la conversión:\n",
      "Polygon    4813\n",
      "Name: count, dtype: int64\n"
     ]
    }
   ],
   "source": [
    "# Leer el shapefile de manzanas\n",
    "gdf_manzanas = gpd.read_file(manzanas_shp)\n",
    "\n",
    "# Asegurar que el CRS coincida\n",
    "gdf_manzanas = gdf_manzanas.to_crs(epsg=4326)\n",
    "\n",
    "# Corregir geometrías inválidas\n",
    "gdf_manzanas['geometry'] = gdf_manzanas['geometry'].buffer(0)\n",
    "\n",
    "# Realizar la intersección espacial para recortar las manzanas dentro de Coyoacán\n",
    "gdf_manzanas_coyoacan = gpd.overlay(\n",
    "    gdf_manzanas, gdf_coyoacan, how='intersection', keep_geom_type=False\n",
    ")\n",
    "\n",
    "# Verificar los nombres de las columnas\n",
    "print(\"Columnas después del overlay Manzanas:\", gdf_manzanas_coyoacan.columns)\n",
    "\n",
    "# Seleccionar y renombrar columnas\n",
    "gdf_manzanas_coyoacan = gdf_manzanas_coyoacan[['IDENTIFICA', 'geometry']].rename(columns={\n",
    "    'IDENTIFICA': 'id_manzana'\n",
    "})\n",
    "\n",
    "# Asegurar que los IDs sean strings\n",
    "gdf_manzanas_coyoacan['id_manzana'] = gdf_manzanas_coyoacan['id_manzana'].astype(str)\n",
    "\n",
    "# Verificar los tipos de geometría antes de la conversión\n",
    "print(\"Tipos de geometría antes de la conversión:\")\n",
    "print(gdf_manzanas_coyoacan.geom_type.value_counts())\n",
    "\n",
    "# Aplicar la función para extraer polígonos\n",
    "gdf_manzanas_coyoacan['geometry'] = gdf_manzanas_coyoacan['geometry'].apply(extract_polygons)\n",
    "\n",
    "# Eliminar registros con geometrías vacías o nulas\n",
    "gdf_manzanas_coyoacan = gdf_manzanas_coyoacan[~gdf_manzanas_coyoacan['geometry'].is_empty]\n",
    "gdf_manzanas_coyoacan = gdf_manzanas_coyoacan.dropna(subset=['geometry'])\n",
    "\n",
    "# Verificar los tipos de geometría después de la conversión\n",
    "print(\"Tipos de geometría después de la conversión:\")\n",
    "print(gdf_manzanas_coyoacan.geom_type.value_counts())\n",
    "\n",
    "# Guardar el shapefile limpio de manzanas\n",
    "gdf_manzanas_coyoacan.to_file(f'{output_dir}manzana/manzanas_coyoacan_clean.shp')\n"
   ]
  }
 ],
 "metadata": {
  "kernelspec": {
   "display_name": "Python (coyo)",
   "language": "python",
   "name": "coyo"
  },
  "language_info": {
   "codemirror_mode": {
    "name": "ipython",
    "version": 3
   },
   "file_extension": ".py",
   "mimetype": "text/x-python",
   "name": "python",
   "nbconvert_exporter": "python",
   "pygments_lexer": "ipython3",
   "version": "3.11.5"
  }
 },
 "nbformat": 4,
 "nbformat_minor": 5
}
